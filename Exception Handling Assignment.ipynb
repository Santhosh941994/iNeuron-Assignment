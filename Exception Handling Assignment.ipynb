{
 "cells": [
  {
   "cell_type": "markdown",
   "metadata": {},
   "source": [
    "### Exception Handling Assignment"
   ]
  },
  {
   "cell_type": "code",
   "execution_count": 16,
   "metadata": {},
   "outputs": [
    {
     "name": "stdout",
     "output_type": "stream",
     "text": [
      "division by zero is not possible\n"
     ]
    }
   ],
   "source": [
    "### Q1\n",
    "\n",
    "\n",
    "def div_by_zero():\n",
    "    try:\n",
    "        x = 5/0\n",
    "    except ZeroDivisionError:\n",
    "        print(\"division by zero is not possible\")\n",
    "div_by_zero()\n"
   ]
  },
  {
   "cell_type": "code",
   "execution_count": 17,
   "metadata": {},
   "outputs": [
    {
     "name": "stdout",
     "output_type": "stream",
     "text": [
      "Americans Play Baseball.\n",
      "Americans Play Cricket.\n",
      "Americans Watch Baseball.\n",
      "Americans Watch Cricket.\n",
      "Indians Play Baseball.\n",
      "Indians Play Cricket.\n",
      "Indians Watch Baseball.\n",
      "Indians Watch Cricket.\n"
     ]
    }
   ],
   "source": [
    "### Q2\n",
    "\n",
    "subject = [\"Americans\",\"Indians\"]\n",
    "verb = [\"Play\",\"Watch\"]\n",
    "objects = [\"Baseball\",\"Cricket\"]\n",
    "# a = print(list(map(lambda x,y,z: x+y+z ,subject,verb,objects)))\n",
    "for x in subject:\n",
    "    for y in verb:\n",
    "        for z in objects:\n",
    "            print(x + \" \" + y + \" \" + z + \".\")"
   ]
  },
  {
   "cell_type": "code",
   "execution_count": null,
   "metadata": {},
   "outputs": [],
   "source": []
  }
 ],
 "metadata": {
  "kernelspec": {
   "display_name": "Python 3",
   "language": "python",
   "name": "python3"
  },
  "language_info": {
   "codemirror_mode": {
    "name": "ipython",
    "version": 3
   },
   "file_extension": ".py",
   "mimetype": "text/x-python",
   "name": "python",
   "nbconvert_exporter": "python",
   "pygments_lexer": "ipython3",
   "version": "3.7.1"
  }
 },
 "nbformat": 4,
 "nbformat_minor": 2
}
