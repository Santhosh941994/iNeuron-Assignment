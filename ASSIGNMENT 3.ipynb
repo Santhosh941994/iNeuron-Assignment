{
 "cells": [
  {
   "cell_type": "markdown",
   "metadata": {},
   "source": [
    "### ASSIGNMENT 3"
   ]
  },
  {
   "cell_type": "code",
   "execution_count": 3,
   "metadata": {},
   "outputs": [
    {
     "name": "stdout",
     "output_type": "stream",
     "text": [
      "412\n"
     ]
    }
   ],
   "source": [
    "# Question 1.1\n",
    "\n",
    "\n",
    "### Write a python program to implement your own myreduce() function which works exactly like\n",
    "### python's built-in function reduce()\n",
    "\n",
    "def myreduce(lst1):\n",
    "    max_value = lst1[0]\n",
    "    for i in lst1:\n",
    "        if i>max_value:\n",
    "            max_value = i\n",
    "    return max_value\n",
    "a = [255,323,210,265,412]\n",
    "print(myreduce(a))"
   ]
  },
  {
   "cell_type": "code",
   "execution_count": 4,
   "metadata": {},
   "outputs": [
    {
     "data": {
      "text/plain": [
       "412"
      ]
     },
     "execution_count": 4,
     "metadata": {},
     "output_type": "execute_result"
    }
   ],
   "source": [
    "from functools import reduce\n",
    "reduce(lambda x,y: x if x>y else y,a )"
   ]
  },
  {
   "cell_type": "code",
   "execution_count": 1,
   "metadata": {},
   "outputs": [
    {
     "data": {
      "text/plain": [
       "[2, 4, 6, 8, 10]"
      ]
     },
     "execution_count": 1,
     "metadata": {},
     "output_type": "execute_result"
    }
   ],
   "source": [
    "# Question 1.2\n",
    "\n",
    "\n",
    "### Write a python program to implement your own myfilter() function which works exactly like\n",
    "### python's built-in function filter()\n",
    "\n",
    "def myfilter(lst):\n",
    "    new_lst = []\n",
    "    for number in lst:\n",
    "        if number%2 == 0:\n",
    "            new_lst.append(number)\n",
    "    return new_lst\n",
    "lst = [1,2,3,4,5,6,7,8,9,10]\n",
    "myfilter(lst)\n",
    "    "
   ]
  },
  {
   "cell_type": "code",
   "execution_count": 2,
   "metadata": {},
   "outputs": [
    {
     "data": {
      "text/plain": [
       "[2, 4, 6, 8, 10]"
      ]
     },
     "execution_count": 2,
     "metadata": {},
     "output_type": "execute_result"
    }
   ],
   "source": [
    "list(filter(lambda x: x%2==0,lst))"
   ]
  },
  {
   "cell_type": "code",
   "execution_count": 12,
   "metadata": {},
   "outputs": [
    {
     "name": "stdout",
     "output_type": "stream",
     "text": [
      "['x', 'xx', 'xxx', 'xxxx', 'y', 'yy', 'yyy', 'yyyy', 'z', 'zz', 'zzz', 'zzzz']\n",
      "['x', 'y', 'z', 'xx', 'yy', 'zz', 'xxx', 'yyy', 'zzz', 'xxxx', 'yyyy', 'zzzz']\n",
      "[[2], [3], [4], [3], [4], [5], [4], [5], [6]]\n",
      "[[2, 3, 4, 5], [3, 4, 5, 6], [4, 5, 6, 7], [5, 6, 7, 8]]\n",
      "[(1, 1), (2, 1), (3, 1), (1, 2), (2, 2), (3, 2), (1, 3), (2, 3), (3, 3)]\n"
     ]
    }
   ],
   "source": [
    "###   Question 2\n",
    "\n",
    "### Implement list comprehensions to produce the following list\n",
    "\n",
    "print([i*a for i in 'xyz' for a in range(1,5)])\n",
    "print([j*b for j in range(1,5) for b in 'xyz'])\n",
    "print([[x+y]for x in [2,3,4] for y in range (0,3)])\n",
    "print([[x,x+1,x+2,x+3]for x in range(2,6)])\n",
    "print([(y,x) for x in range(1,4) for y in range (1,4)])       "
   ]
  }
 ],
 "metadata": {
  "kernelspec": {
   "display_name": "Python 3",
   "language": "python",
   "name": "python3"
  },
  "language_info": {
   "codemirror_mode": {
    "name": "ipython",
    "version": 3
   },
   "file_extension": ".py",
   "mimetype": "text/x-python",
   "name": "python",
   "nbconvert_exporter": "python",
   "pygments_lexer": "ipython3",
   "version": "3.7.1"
  }
 },
 "nbformat": 4,
 "nbformat_minor": 2
}
